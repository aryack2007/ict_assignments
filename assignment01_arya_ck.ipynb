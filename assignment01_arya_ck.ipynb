{
  "nbformat": 4,
  "nbformat_minor": 0,
  "metadata": {
    "colab": {
      "provenance": [],
      "authorship_tag": "ABX9TyPtRcMEtLlHteQBpVs25BBj",
      "include_colab_link": true
    },
    "kernelspec": {
      "name": "python3",
      "display_name": "Python 3"
    },
    "language_info": {
      "name": "python"
    }
  },
  "cells": [
    {
      "cell_type": "markdown",
      "metadata": {
        "id": "view-in-github",
        "colab_type": "text"
      },
      "source": [
        "<a href=\"https://colab.research.google.com/github/aryack2007/ict_assignments/blob/main/assignment01_arya_ck.ipynb\" target=\"_parent\"><img src=\"https://colab.research.google.com/assets/colab-badge.svg\" alt=\"Open In Colab\"/></a>"
      ]
    },
    {
      "cell_type": "markdown",
      "source": [
        "1.Grocery billing"
      ],
      "metadata": {
        "id": "miAGYybdWcHR"
      }
    },
    {
      "cell_type": "code",
      "execution_count": 2,
      "metadata": {
        "colab": {
          "base_uri": "https://localhost:8080/"
        },
        "id": "EWM0kIiOWTZK",
        "outputId": "2038f224-e933-4687-dd1e-c65193af6528"
      },
      "outputs": [
        {
          "output_type": "stream",
          "name": "stdout",
          "text": [
            "Enter item1 price: 45\n",
            "Enter item1 quantity: 3\n",
            "Enter item2 price: 30\n",
            "Enter item2 quantity: 2\n",
            "195\n"
          ]
        }
      ],
      "source": [
        "#input funcion\n",
        "a = int(input(\"Enter item1 price: \"))\n",
        "b = int(input(\"Enter item1 quantity: \"))\n",
        "c = int(input(\"Enter item2 price: \"))\n",
        "d = int(input(\"Enter item2 quantity: \"))\n",
        "t= (a*b) + (c*d)\n",
        "print(t)"
      ]
    },
    {
      "cell_type": "markdown",
      "source": [
        "2. temparature conversiom"
      ],
      "metadata": {
        "id": "c0QF3flGiTL9"
      }
    },
    {
      "cell_type": "code",
      "source": [
        "a = int(input(\"Enter temparature in celsius: \"))\n",
        "b = (a*9/5)+32\n",
        "print(\"Enter temparature in fahrenheit: \",a)"
      ],
      "metadata": {
        "id": "b5glr6lLc22P",
        "colab": {
          "base_uri": "https://localhost:8080/"
        },
        "outputId": "3d439974-5d48-4e75-9132-fbc50efbdd05"
      },
      "execution_count": 5,
      "outputs": [
        {
          "output_type": "stream",
          "name": "stdout",
          "text": [
            "Enter temparature in celsius: 30\n",
            "Enter temparature in fahrenheit:  30\n"
          ]
        }
      ]
    },
    {
      "cell_type": "markdown",
      "source": [
        "3.Salary slip"
      ],
      "metadata": {
        "id": "6Geblv004OrB"
      }
    },
    {
      "cell_type": "code",
      "source": [
        "a = int(input(\"Enter the basic salary :\"))\n",
        "HRA = a* (20/100)\n",
        "DA = a* (10/100)\n",
        "total_salary = a+HRA+DA\n",
        "print(\"Net salary = \", total_salary)"
      ],
      "metadata": {
        "colab": {
          "base_uri": "https://localhost:8080/"
        },
        "id": "IWHU-nqF40Wv",
        "outputId": "8e2774b1-504c-4b6f-8315-cff88d89ebbd"
      },
      "execution_count": 7,
      "outputs": [
        {
          "output_type": "stream",
          "name": "stdout",
          "text": [
            "Enter the basic salary :20000\n",
            "Net salary =  26000.0\n"
          ]
        }
      ]
    },
    {
      "cell_type": "markdown",
      "source": [
        "4.Simple interest"
      ],
      "metadata": {
        "id": "p2mtbxUs6QTm"
      }
    },
    {
      "cell_type": "code",
      "source": [
        "P = float(input(\"principle amount\"))\n",
        "R = float(input(\"rate of interest\"))\n",
        "t = float(input(\"Time in years\"))\n",
        "si = (P*R*t)/100\n",
        "print(si)"
      ],
      "metadata": {
        "colab": {
          "base_uri": "https://localhost:8080/"
        },
        "id": "-HR5objF4U5v",
        "outputId": "b6b59e52-0a7e-4216-f56a-cf650efbe3d6"
      },
      "execution_count": 8,
      "outputs": [
        {
          "output_type": "stream",
          "name": "stdout",
          "text": [
            "principle amount10000\n",
            "rate of interest5\n",
            "Time in years2\n",
            "1000.0\n"
          ]
        }
      ]
    },
    {
      "cell_type": "markdown",
      "source": [
        "5.Time Conversion"
      ],
      "metadata": {
        "id": "ZqbyRL3O707D"
      }
    },
    {
      "cell_type": "code",
      "source": [
        "import math"
      ],
      "metadata": {
        "id": "HRLQsi4X_RUO"
      },
      "execution_count": 12,
      "outputs": []
    },
    {
      "cell_type": "code",
      "source": [
        "minutes = float(input(\"Enter total minutes\" ))\n",
        "hours = math.floor  (minutes//60)\n",
        "min = math. floor (minutes % 60)\n",
        "print(hours,\" hours\",min,\" minutes\")\n"
      ],
      "metadata": {
        "colab": {
          "base_uri": "https://localhost:8080/"
        },
        "id": "iW22UezS7rq0",
        "outputId": "08874c31-e815-4c07-d295-90ec629c70a3"
      },
      "execution_count": 13,
      "outputs": [
        {
          "output_type": "stream",
          "name": "stdout",
          "text": [
            "Enter total minutes130\n",
            "2  hours 10  minutes\n"
          ]
        }
      ]
    },
    {
      "cell_type": "markdown",
      "source": [
        "6.BMI CALCULATOR"
      ],
      "metadata": {
        "id": "ELhb_01Z_h5-"
      }
    },
    {
      "cell_type": "code",
      "source": [
        "weight_kg = float(input(\"Enter weight in kg:\" ))\n",
        "height_m = float(input(\"Enter height in m:\"))\n",
        "bmi = weight_kg / height_m**2\n",
        "print(\"bmi = \",bmi)"
      ],
      "metadata": {
        "colab": {
          "base_uri": "https://localhost:8080/"
        },
        "id": "yGW1pzAI-R_4",
        "outputId": "374a5980-235e-4eba-d847-564e340ce5f2"
      },
      "execution_count": 14,
      "outputs": [
        {
          "output_type": "stream",
          "name": "stdout",
          "text": [
            "Enter weight in kg:60\n",
            "Enter height in m:1.65\n",
            "bmi =  22.03856749311295\n"
          ]
        }
      ]
    },
    {
      "cell_type": "markdown",
      "source": [
        "7.Discount calculation"
      ],
      "metadata": {
        "id": "Ip5CG_5FBSgU"
      }
    },
    {
      "cell_type": "code",
      "source": [
        "ogprice = int(input(\"Enter the price:\"))\n",
        "dis = ogprice - ogprice * 10/100\n",
        "print(dis)"
      ],
      "metadata": {
        "colab": {
          "base_uri": "https://localhost:8080/"
        },
        "id": "mJbPBrblBZGa",
        "outputId": "8918eda3-afe6-4fec-96bd-3e19cfd81be1"
      },
      "execution_count": 15,
      "outputs": [
        {
          "output_type": "stream",
          "name": "stdout",
          "text": [
            "Enter the price:1200\n",
            "1080.0\n"
          ]
        }
      ]
    },
    {
      "cell_type": "markdown",
      "source": [
        "8.Area of a Triangle"
      ],
      "metadata": {
        "id": "wMzTnQTxCkSy"
      }
    },
    {
      "cell_type": "code",
      "source": [
        "a = float (input(\"Enter side a: \"))\n",
        "b = float (input(\"Enter side b: \"))\n",
        "c = float (input(\"enter the side c: \"))\n",
        "s = (a + b + c)/2\n",
        "area = math.sqrt(s*(s-a)*(s-b)*(s-c))\n",
        "print (\"Area of the triangle = \",area)"
      ],
      "metadata": {
        "colab": {
          "base_uri": "https://localhost:8080/"
        },
        "id": "1k7KbThYCcZK",
        "outputId": "5e8b247c-ec65-4494-aeac-6e5001772ac8"
      },
      "execution_count": 16,
      "outputs": [
        {
          "output_type": "stream",
          "name": "stdout",
          "text": [
            "Enter side a: 5\n",
            "Enter side b: 6\n",
            "enter the side c: 7\n",
            "Area of the triangle =  14.696938456699069\n"
          ]
        }
      ]
    },
    {
      "cell_type": "markdown",
      "source": [
        "9.Paint cost estimator"
      ],
      "metadata": {
        "id": "ihJGac2hFpOV"
      }
    },
    {
      "cell_type": "code",
      "source": [
        "print(\"Paint Cost Estimator\")\n",
        "l = float(input(\"Enter length of the wall:\"))\n",
        "b = float(input(\"Enter breadth of the wall:\"))\n",
        "area = l * b\n",
        "area_w = 2*(1.5 * 1.2)\n",
        "paint = area - area_w\n",
        "print(paint,\"sq.m\")\n",
        "cost = paint * 25\n",
        "print(cost)"
      ],
      "metadata": {
        "colab": {
          "base_uri": "https://localhost:8080/"
        },
        "id": "hwMOAA4jFlpl",
        "outputId": "3f1f2b72-ad7e-4969-c083-e44bcd49be99"
      },
      "execution_count": 17,
      "outputs": [
        {
          "output_type": "stream",
          "name": "stdout",
          "text": [
            "Paint Cost Estimator\n",
            "Enter length of the wall:12\n",
            "Enter breadth of the wall:8\n",
            "92.4 sq.m\n",
            "2310.0\n"
          ]
        }
      ]
    },
    {
      "cell_type": "markdown",
      "source": [
        "10.Electricity bill calculator"
      ],
      "metadata": {
        "id": "a9SjzWLsVhz8"
      }
    },
    {
      "cell_type": "code",
      "source": [
        "a = float(input(\"Enter number of units consumed: \"))\n",
        "r = 5.2\n",
        "f = 100\n",
        "bill_amount = (a * r) + f\n",
        "print(\"Electricity Bill = \",bill_amount)"
      ],
      "metadata": {
        "colab": {
          "base_uri": "https://localhost:8080/"
        },
        "id": "d0lWK9uHGCjM",
        "outputId": "522c0200-d3da-4051-f1e5-78c66d6cda3e"
      },
      "execution_count": 18,
      "outputs": [
        {
          "output_type": "stream",
          "name": "stdout",
          "text": [
            "Enter number of units consumed: 250\n",
            "Electricity Bill =  1400.0\n"
          ]
        }
      ]
    },
    {
      "cell_type": "code",
      "source": [],
      "metadata": {
        "id": "ZgMwKCEnSC-B"
      },
      "execution_count": null,
      "outputs": []
    }
  ]
}